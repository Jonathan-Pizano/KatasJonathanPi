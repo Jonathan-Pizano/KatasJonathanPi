{
 "cells": [
  {
   "cell_type": "code",
   "execution_count": 31,
   "metadata": {},
   "outputs": [
    {
     "name": "stdout",
     "output_type": "stream",
     "text": [
      "11 parsec, is 35.877159999999996 lightyears\n"
     ]
    }
   ],
   "source": [
    "parsec = 11\n",
    "lightyears = 3.26156 * parsec\n",
    "\n",
    "print(str(parsec) + \" parsec, is \" + str(lightyears) + \" lightyears\")"
   ]
  },
  {
   "cell_type": "markdown",
   "metadata": {},
   "source": [
    "Convertidor de unidades"
   ]
  },
  {
   "cell_type": "code",
   "execution_count": 33,
   "metadata": {},
   "outputs": [
    {
     "name": "stdout",
     "output_type": "stream",
     "text": [
      "convertir años luz a parsecs\n",
      "0.613202\n"
     ]
    }
   ],
   "source": [
    "parsecs = 0.306601\n",
    "print(\"convertir años luz a parsecs\")\n",
    "lightyear= input(\"Introduzca los años luz que desea convertir a parsecs: \")\n",
    "mul = (float(parsecs) * float(lightyear))\n",
    "print(mul)\n"
   ]
  },
  {
   "cell_type": "code",
   "execution_count": 29,
   "metadata": {},
   "outputs": [
    {
     "name": "stdout",
     "output_type": "stream",
     "text": [
      "convertir parsecs a años luz\n",
      "6.52312\n"
     ]
    }
   ],
   "source": [
    "lightyear = 3.26156\n",
    "print(\"convertir parsecs a años luz\")\n",
    "parsecs = input(\"Introduzca los parsec que desea convertir a años luz: \")\n",
    "mul = (float(parsecs) * float(lightyear))\n",
    "print(mul)\n",
    "\n"
   ]
  },
  {
   "cell_type": "markdown",
   "metadata": {},
   "source": [
    "Fecha de hoy!"
   ]
  },
  {
   "cell_type": "code",
   "execution_count": 5,
   "metadata": {},
   "outputs": [
    {
     "name": "stdout",
     "output_type": "stream",
     "text": [
      "Today's date is: 2022-02-08\n"
     ]
    }
   ],
   "source": [
    "from datetime import date\n",
    "date.today()\n",
    "print(\"Today's date is: \" + str(date.today()))\n"
   ]
  }
 ],
 "metadata": {
  "interpreter": {
   "hash": "49a99afdfa48a4441c56a177ac47fcd92f3b9b32c13ff0a4775ddb0b872c6970"
  },
  "kernelspec": {
   "display_name": "Python 3.10.0 64-bit",
   "language": "python",
   "name": "python3"
  },
  "language_info": {
   "codemirror_mode": {
    "name": "ipython",
    "version": 3
   },
   "file_extension": ".py",
   "mimetype": "text/x-python",
   "name": "python",
   "nbconvert_exporter": "python",
   "pygments_lexer": "ipython3",
   "version": "3.10.0"
  },
  "orig_nbformat": 4
 },
 "nbformat": 4,
 "nbformat_minor": 2
}
